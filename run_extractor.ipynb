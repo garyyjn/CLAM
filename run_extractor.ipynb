{
 "cells": [
  {
   "cell_type": "code",
   "execution_count": null,
   "metadata": {
    "collapsed": true
   },
   "outputs": [],
   "source": []
  },
  {
   "cell_type": "code",
   "execution_count": 1,
   "outputs": [
    {
     "name": "stdout",
     "output_type": "stream",
     "text": [
      "/opt/homebrew/Cellar/openslide/3.4.1_5/lib\n",
      "/opt/homebrew/Cellar/openslide/3.4.1_5/lib\r\n"
     ]
    }
   ],
   "source": [
    "%cd /opt/homebrew/Cellar/openslide/3.4.1_5/lib\n",
    "!pwd"
   ],
   "metadata": {
    "collapsed": false,
    "pycharm": {
     "name": "#%%\n"
    }
   }
  },
  {
   "cell_type": "code",
   "execution_count": 2,
   "outputs": [
    {
     "name": "stdout",
     "output_type": "stream",
     "text": [
      "fuck\n",
      "Whole Slide Dims: (24001, 24176)\n",
      "Number of tiles: 11449\n"
     ]
    },
    {
     "name": "stderr",
     "output_type": "stream",
     "text": [
      "100%|██████████| 107/107 [00:33<00:00,  3.21it/s]\n"
     ]
    },
    {
     "name": "stdout",
     "output_type": "stream",
     "text": [
      "Post filter tiles: 7216\n"
     ]
    },
    {
     "name": "stderr",
     "output_type": "stream",
     "text": [
      "100%|██████████| 107/107 [05:13<00:00,  2.93s/it]\n"
     ]
    }
   ],
   "source": [
    "from feature_extraction import small_feature_extraction\n",
    "from models.resnet_custom import ResNet_Baseline, resnet50_baseline\n",
    "\n",
    "feature_extractor = resnet50_baseline(pretrained=True)\n",
    "data_path = \"example_bladder_data\"\n",
    "output_path = \"example_bladder_output\"#class1/features, class1/dictionary, class2/features, class2/dicitonaru\n",
    "annotation_path = \"\"\n",
    "file_name = \"TCGA-49-4505-11A-01-BS1.e019788b-29ba-4469-bda7-c39824386c12.svs\"\n",
    "\n",
    "a, b = small_feature_extraction(file_name, feature_extractor=feature_extractor, )\n"
   ],
   "metadata": {
    "collapsed": false,
    "pycharm": {
     "name": "#%%\n"
    }
   }
  },
  {
   "cell_type": "code",
   "execution_count": 4,
   "outputs": [
    {
     "name": "stdout",
     "output_type": "stream",
     "text": [
      "[[ True  True  True ...  True  True  True]\n",
      " [ True  True  True ...  True  True  True]\n",
      " [ True  True  True ...  True  True  True]\n",
      " ...\n",
      " [ True  True  True ...  True  True  True]\n",
      " [ True  True  True ...  True  True  True]\n",
      " [ True  True  True ...  True  True  True]]\n",
      "True\n"
     ]
    }
   ],
   "source": [
    "import numpy as np\n",
    "import pickle\n",
    "a1 = np.load(\"/Users/M261759/Documents/GitHub/CLAM/example_bladder_output/nc1/TCGA-49-4505-11A-01-BS1.e019788b-29ba-4469-bda7-c39824386c12.svs.npy\")\n",
    "with open('/Users/M261759/Documents/GitHub/CLAM/example_bladder_output/c1/TCGA-49-4505-11A-01-BS1.e019788b-29ba-4469-bda7-c39824386c12.svs.dict', 'rb') as handle:\n",
    "    b1 = pickle.load(handle)\n",
    "\n",
    "\n",
    "print(a1 == a)\n",
    "print(b1 == b)\n",
    "fds\n",
    "for files in os.listdir()"
   ],
   "metadata": {
    "collapsed": false,
    "pycharm": {
     "name": "#%%\n"
    }
   }
  }
 ],
 "metadata": {
  "kernelspec": {
   "display_name": "Python 3",
   "language": "python",
   "name": "python3"
  },
  "language_info": {
   "codemirror_mode": {
    "name": "ipython",
    "version": 2
   },
   "file_extension": ".py",
   "mimetype": "text/x-python",
   "name": "python",
   "nbconvert_exporter": "python",
   "pygments_lexer": "ipython2",
   "version": "2.7.6"
  }
 },
 "nbformat": 4,
 "nbformat_minor": 0
}